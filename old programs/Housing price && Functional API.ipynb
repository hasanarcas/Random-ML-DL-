{
 "cells": [
  {
   "cell_type": "code",
   "execution_count": 1,
   "id": "fabc0aa0",
   "metadata": {},
   "outputs": [],
   "source": [
    "from sklearn.datasets import fetch_california_housing\n",
    "from sklearn.model_selection import train_test_split\n",
    "from sklearn.preprocessing import StandardScaler\n",
    "housing = fetch_california_housing()\n",
    "X_train_full, X_test, y_train_full, y_test = train_test_split(\n",
    "     housing.data, housing.target)\n",
    "X_train, X_valid, y_train, y_valid = train_test_split(\n",
    "     X_train_full, y_train_full)\n",
    "scaler = StandardScaler()\n",
    "X_train_scaled = scaler.fit_transform(X_train)\n",
    "X_valid_scaled = scaler.transform(X_valid)\n",
    "X_test_scaled = scaler.transform(X_test)"
   ]
  },
  {
   "cell_type": "code",
   "execution_count": 2,
   "id": "e4dd98ce",
   "metadata": {},
   "outputs": [
    {
     "data": {
      "text/plain": [
       "'model = keras.models.Sequential([\\n     keras.layers.Dense(30, activation=\"relu\", input_shape=X_train.shape[1:]),\\n     keras.layers.Dense(1)\\n     ])\\nmodel.compile(loss=\"mean_squared_error\", optimizer=\"sgd\")\\nhistory = model.fit(X_train, y_train, epochs=20,\\n     validation_data=(X_valid, y_valid))\\nmse_test = model.evaluate(X_test, y_test)'"
      ]
     },
     "execution_count": 2,
     "metadata": {},
     "output_type": "execute_result"
    }
   ],
   "source": [
    "from tensorflow import keras\n",
    "'''model = keras.models.Sequential([\n",
    "     keras.layers.Dense(30, activation=\"relu\", input_shape=X_train.shape[1:]),\n",
    "     keras.layers.Dense(1)\n",
    "     ])\n",
    "model.compile(loss=\"mean_squared_error\", optimizer=\"sgd\")\n",
    "history = model.fit(X_train, y_train, epochs=20,\n",
    "     validation_data=(X_valid, y_valid))\n",
    "mse_test = model.evaluate(X_test, y_test)'''"
   ]
  },
  {
   "cell_type": "code",
   "execution_count": 3,
   "id": "1a1a1a3e",
   "metadata": {},
   "outputs": [
    {
     "data": {
      "text/plain": [
       "'X_new = X_test[:3] # pretend these are new instances\\ny_pred = model.predict(X_new)\\ny_pred'"
      ]
     },
     "execution_count": 3,
     "metadata": {},
     "output_type": "execute_result"
    }
   ],
   "source": [
    "'''X_new = X_test[:3] # pretend these are new instances\n",
    "y_pred = model.predict(X_new)\n",
    "y_pred'''"
   ]
  },
  {
   "cell_type": "code",
   "execution_count": 4,
   "id": "863dec7b",
   "metadata": {},
   "outputs": [
    {
     "data": {
      "text/plain": [
       "'input = keras.layers.Input(shape=X_train.shape[1:])\\nhidden1 = keras.layers.Dense(30, activation=\"relu\")(input)\\nhidden2 = keras.layers.Dense(30, activation=\"relu\")(hidden1)\\nconcat = keras.layers.Concatenate()([input, hidden2])\\noutput = keras.layers.Dense(1)(concat)\\nmodel = keras.models.Model(inputs=[input], outputs=[output])'"
      ]
     },
     "execution_count": 4,
     "metadata": {},
     "output_type": "execute_result"
    }
   ],
   "source": [
    "#Functional API starts here\n",
    "#Thanks to functional API we can build our own architecture for the Neural Network\n",
    "'''input = keras.layers.Input(shape=X_train.shape[1:])\n",
    "hidden1 = keras.layers.Dense(30, activation=\"relu\")(input)\n",
    "hidden2 = keras.layers.Dense(30, activation=\"relu\")(hidden1)\n",
    "concat = keras.layers.Concatenate()([input, hidden2])\n",
    "output = keras.layers.Dense(1)(concat)\n",
    "model = keras.models.Model(inputs=[input], outputs=[output])'''"
   ]
  },
  {
   "cell_type": "code",
   "execution_count": 5,
   "id": "95bbce04",
   "metadata": {},
   "outputs": [
    {
     "data": {
      "text/plain": [
       "'model.compile(loss=\"mean_squared_error\", optimizer=\"adam\")\\nhistory = model.fit(X_train, y_train, epochs=20,\\n     validation_data=(X_valid, y_valid))\\nmse_test = model.evaluate(X_test, y_test)'"
      ]
     },
     "execution_count": 5,
     "metadata": {},
     "output_type": "execute_result"
    }
   ],
   "source": [
    "'''model.compile(loss=\"mean_squared_error\", optimizer=\"adam\")\n",
    "history = model.fit(X_train, y_train, epochs=20,\n",
    "     validation_data=(X_valid, y_valid))\n",
    "mse_test = model.evaluate(X_test, y_test)'''"
   ]
  },
  {
   "cell_type": "code",
   "execution_count": 6,
   "id": "45bada0f",
   "metadata": {},
   "outputs": [],
   "source": [
    "#wide & deep algorithm\n",
    "input_A = keras.layers.Input(shape=[5])\n",
    "input_B = keras.layers.Input(shape=[6])\n",
    "hidden1 = keras.layers.Dense(30, activation=\"relu\")(input_B)\n",
    "hidden2 = keras.layers.Dense(30, activation=\"relu\")(hidden1)\n",
    "concat = keras.layers.concatenate([input_A, hidden2])\n",
    "output = keras.layers.Dense(1)(concat)\n",
    "model = keras.models.Model(inputs=[input_A, input_B], outputs=[output])"
   ]
  },
  {
   "cell_type": "code",
   "execution_count": 7,
   "id": "04edfa93",
   "metadata": {},
   "outputs": [
    {
     "name": "stdout",
     "output_type": "stream",
     "text": [
      "Epoch 1/20\n",
      "363/363 [==============================] - 1s 2ms/step - loss: 9188.4150 - val_loss: 19.2259\n",
      "Epoch 2/20\n",
      "363/363 [==============================] - 1s 1ms/step - loss: 26.5629 - val_loss: 17.1965\n",
      "Epoch 3/20\n",
      "363/363 [==============================] - 0s 1ms/step - loss: 23.2706 - val_loss: 15.5938\n",
      "Epoch 4/20\n",
      "363/363 [==============================] - 0s 1ms/step - loss: 19.6452 - val_loss: 18.9242\n",
      "Epoch 5/20\n",
      "363/363 [==============================] - 0s 1ms/step - loss: 15.6750 - val_loss: 11.8198\n",
      "Epoch 6/20\n",
      "363/363 [==============================] - 0s 1ms/step - loss: 13.6745 - val_loss: 9.7404\n",
      "Epoch 7/20\n",
      "363/363 [==============================] - 0s 1ms/step - loss: 25.1993 - val_loss: 8.0285\n",
      "Epoch 8/20\n",
      "363/363 [==============================] - 0s 1ms/step - loss: 8.9220 - val_loss: 6.8219\n",
      "Epoch 9/20\n",
      "363/363 [==============================] - 0s 1ms/step - loss: 6.2864 - val_loss: 4.4134\n",
      "Epoch 10/20\n",
      "363/363 [==============================] - 0s 1ms/step - loss: 4.4206 - val_loss: 3.9574\n",
      "Epoch 11/20\n",
      "363/363 [==============================] - 0s 1ms/step - loss: 2.9036 - val_loss: 2.2696\n",
      "Epoch 12/20\n",
      "363/363 [==============================] - 0s 1ms/step - loss: 2.8767 - val_loss: 1.5701\n",
      "Epoch 13/20\n",
      "363/363 [==============================] - 0s 1ms/step - loss: 2.7263 - val_loss: 1.1427\n",
      "Epoch 14/20\n",
      "363/363 [==============================] - 0s 1ms/step - loss: 1.4244 - val_loss: 0.8684\n",
      "Epoch 15/20\n",
      "363/363 [==============================] - 1s 1ms/step - loss: 1.6076 - val_loss: 0.7707\n",
      "Epoch 16/20\n",
      "363/363 [==============================] - 0s 1ms/step - loss: 63.0503 - val_loss: 0.9175\n",
      "Epoch 17/20\n",
      "363/363 [==============================] - 0s 1ms/step - loss: 1.0818 - val_loss: 0.7124\n",
      "Epoch 18/20\n",
      "363/363 [==============================] - 0s 1ms/step - loss: 0.9415 - val_loss: 0.8250\n",
      "Epoch 19/20\n",
      "363/363 [==============================] - 1s 1ms/step - loss: 1.3617 - val_loss: 0.7005\n",
      "Epoch 20/20\n",
      "363/363 [==============================] - 0s 1ms/step - loss: 2.0053 - val_loss: 0.9482\n",
      "162/162 [==============================] - 0s 773us/step - loss: 0.9379\n"
     ]
    }
   ],
   "source": [
    "model.compile(loss=\"mse\", optimizer=\"adam\")\n",
    "X_train_A, X_train_B = X_train[:, :5], X_train[:, 2:]\n",
    "X_valid_A, X_valid_B = X_valid[:, :5], X_valid[:, 2:]\n",
    "X_test_A, X_test_B = X_test[:, :5], X_test[:, 2:]\n",
    "X_new_A, X_new_B = X_test_A[:3], X_test_B[:3]\n",
    "history = model.fit((X_train_A, X_train_B), y_train, epochs=20,\n",
    "     validation_data=((X_valid_A, X_valid_B), y_valid))\n",
    "mse_test = model.evaluate((X_test_A, X_test_B), y_test)\n",
    "y_pred = model.predict((X_new_A, X_new_B))"
   ]
  },
  {
   "cell_type": "code",
   "execution_count": 8,
   "id": "b54299a7",
   "metadata": {},
   "outputs": [],
   "source": [
    "#Another way to implement wide & deep (subclassed model)\n",
    "#this is way more dynamic, because we can add loops and other things inside the call() method\n",
    "# the downside of this approach is that we can't save our model\n",
    "\n",
    "class WideAndDeepModel(keras.models.Model):\n",
    "    def __init__(self, units=30, activation=\"relu\", **kwargs):\n",
    "        super().__init__(**kwargs) # handles standard args (e.g., name)\n",
    "        self.hidden1 = keras.layers.Dense(units, activation=activation)\n",
    "        self.hidden2 = keras.layers.Dense(units, activation=activation)\n",
    "        self.main_output = keras.layers.Dense(1)\n",
    "        self.aux_output = keras.layers.Dense(1)\n",
    "    def call(self, inputs):\n",
    "        input_A, input_B = inputs\n",
    "        hidden1 = self.hidden1(input_B)\n",
    "        hidden2 = self.hidden2(hidden1)\n",
    "        concat = keras.layers.concatenate([input_A, hidden2])\n",
    "        main_output = self.main_output(concat)\n",
    "        aux_output = self.aux_output(hidden2)\n",
    "        return main_output, aux_output\n",
    "model2 = WideAndDeepModel()"
   ]
  },
  {
   "cell_type": "code",
   "execution_count": 9,
   "id": "61ff62d5",
   "metadata": {},
   "outputs": [],
   "source": [
    "# model.save(\"my_keras_model.h5\")     use this to save the model in the folder\n",
    "# model = keras.models.load_model(\"my_keras_model.h5\")     use this in another project in the same folder to use the model"
   ]
  }
 ],
 "metadata": {
  "kernelspec": {
   "display_name": "Python 3",
   "language": "python",
   "name": "python3"
  },
  "language_info": {
   "codemirror_mode": {
    "name": "ipython",
    "version": 3
   },
   "file_extension": ".py",
   "mimetype": "text/x-python",
   "name": "python",
   "nbconvert_exporter": "python",
   "pygments_lexer": "ipython3",
   "version": "3.8.5"
  }
 },
 "nbformat": 4,
 "nbformat_minor": 5
}
