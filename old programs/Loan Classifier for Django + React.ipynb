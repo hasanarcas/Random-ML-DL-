{
 "cells": [
  {
   "cell_type": "code",
   "execution_count": 1,
   "id": "bf0b031d",
   "metadata": {},
   "outputs": [],
   "source": [
    "import pandas as pd\n",
    "import numpy as np"
   ]
  },
  {
   "cell_type": "code",
   "execution_count": 7,
   "id": "1440629b",
   "metadata": {},
   "outputs": [],
   "source": [
    "data = pd.read_csv(\"../datasets/loan_train.txt\")"
   ]
  },
  {
   "cell_type": "code",
   "execution_count": 10,
   "id": "dc6cefaf",
   "metadata": {},
   "outputs": [
    {
     "data": {
      "text/html": [
       "<div>\n",
       "<style scoped>\n",
       "    .dataframe tbody tr th:only-of-type {\n",
       "        vertical-align: middle;\n",
       "    }\n",
       "\n",
       "    .dataframe tbody tr th {\n",
       "        vertical-align: top;\n",
       "    }\n",
       "\n",
       "    .dataframe thead th {\n",
       "        text-align: right;\n",
       "    }\n",
       "</style>\n",
       "<table border=\"1\" class=\"dataframe\">\n",
       "  <thead>\n",
       "    <tr style=\"text-align: right;\">\n",
       "      <th></th>\n",
       "      <th>Loan_ID</th>\n",
       "      <th>Gender</th>\n",
       "      <th>Married</th>\n",
       "      <th>Dependents</th>\n",
       "      <th>Education</th>\n",
       "      <th>Self_Employed</th>\n",
       "      <th>ApplicantIncome</th>\n",
       "      <th>CoapplicantIncome</th>\n",
       "      <th>LoanAmount</th>\n",
       "      <th>Loan_Amount_Term</th>\n",
       "      <th>Credit_History</th>\n",
       "      <th>Property_Area</th>\n",
       "      <th>Loan_Status</th>\n",
       "    </tr>\n",
       "  </thead>\n",
       "  <tbody>\n",
       "    <tr>\n",
       "      <th>0</th>\n",
       "      <td>LP001002</td>\n",
       "      <td>Male</td>\n",
       "      <td>No</td>\n",
       "      <td>0</td>\n",
       "      <td>Graduate</td>\n",
       "      <td>No</td>\n",
       "      <td>5849</td>\n",
       "      <td>0.0</td>\n",
       "      <td>NaN</td>\n",
       "      <td>360.0</td>\n",
       "      <td>1.0</td>\n",
       "      <td>Urban</td>\n",
       "      <td>Y</td>\n",
       "    </tr>\n",
       "    <tr>\n",
       "      <th>1</th>\n",
       "      <td>LP001003</td>\n",
       "      <td>Male</td>\n",
       "      <td>Yes</td>\n",
       "      <td>1</td>\n",
       "      <td>Graduate</td>\n",
       "      <td>No</td>\n",
       "      <td>4583</td>\n",
       "      <td>1508.0</td>\n",
       "      <td>128.0</td>\n",
       "      <td>360.0</td>\n",
       "      <td>1.0</td>\n",
       "      <td>Rural</td>\n",
       "      <td>N</td>\n",
       "    </tr>\n",
       "    <tr>\n",
       "      <th>2</th>\n",
       "      <td>LP001005</td>\n",
       "      <td>Male</td>\n",
       "      <td>Yes</td>\n",
       "      <td>0</td>\n",
       "      <td>Graduate</td>\n",
       "      <td>Yes</td>\n",
       "      <td>3000</td>\n",
       "      <td>0.0</td>\n",
       "      <td>66.0</td>\n",
       "      <td>360.0</td>\n",
       "      <td>1.0</td>\n",
       "      <td>Urban</td>\n",
       "      <td>Y</td>\n",
       "    </tr>\n",
       "    <tr>\n",
       "      <th>3</th>\n",
       "      <td>LP001006</td>\n",
       "      <td>Male</td>\n",
       "      <td>Yes</td>\n",
       "      <td>0</td>\n",
       "      <td>Not Graduate</td>\n",
       "      <td>No</td>\n",
       "      <td>2583</td>\n",
       "      <td>2358.0</td>\n",
       "      <td>120.0</td>\n",
       "      <td>360.0</td>\n",
       "      <td>1.0</td>\n",
       "      <td>Urban</td>\n",
       "      <td>Y</td>\n",
       "    </tr>\n",
       "    <tr>\n",
       "      <th>4</th>\n",
       "      <td>LP001008</td>\n",
       "      <td>Male</td>\n",
       "      <td>No</td>\n",
       "      <td>0</td>\n",
       "      <td>Graduate</td>\n",
       "      <td>No</td>\n",
       "      <td>6000</td>\n",
       "      <td>0.0</td>\n",
       "      <td>141.0</td>\n",
       "      <td>360.0</td>\n",
       "      <td>1.0</td>\n",
       "      <td>Urban</td>\n",
       "      <td>Y</td>\n",
       "    </tr>\n",
       "  </tbody>\n",
       "</table>\n",
       "</div>"
      ],
      "text/plain": [
       "    Loan_ID Gender Married Dependents     Education Self_Employed  \\\n",
       "0  LP001002   Male      No          0      Graduate            No   \n",
       "1  LP001003   Male     Yes          1      Graduate            No   \n",
       "2  LP001005   Male     Yes          0      Graduate           Yes   \n",
       "3  LP001006   Male     Yes          0  Not Graduate            No   \n",
       "4  LP001008   Male      No          0      Graduate            No   \n",
       "\n",
       "   ApplicantIncome  CoapplicantIncome  LoanAmount  Loan_Amount_Term  \\\n",
       "0             5849                0.0         NaN             360.0   \n",
       "1             4583             1508.0       128.0             360.0   \n",
       "2             3000                0.0        66.0             360.0   \n",
       "3             2583             2358.0       120.0             360.0   \n",
       "4             6000                0.0       141.0             360.0   \n",
       "\n",
       "   Credit_History Property_Area Loan_Status  \n",
       "0             1.0         Urban           Y  \n",
       "1             1.0         Rural           N  \n",
       "2             1.0         Urban           Y  \n",
       "3             1.0         Urban           Y  \n",
       "4             1.0         Urban           Y  "
      ]
     },
     "execution_count": 10,
     "metadata": {},
     "output_type": "execute_result"
    }
   ],
   "source": [
    "data.head()"
   ]
  },
  {
   "cell_type": "code",
   "execution_count": 20,
   "id": "b091bbdd",
   "metadata": {},
   "outputs": [],
   "source": [
    "X_cols = data.columns[1:-1]\n",
    "y_cols= data.columns[-1]"
   ]
  },
  {
   "cell_type": "code",
   "execution_count": 13,
   "id": "b50fce15",
   "metadata": {},
   "outputs": [
    {
     "data": {
      "text/plain": [
       "Loan_ID               0\n",
       "Gender               13\n",
       "Married               3\n",
       "Dependents           15\n",
       "Education             0\n",
       "Self_Employed        32\n",
       "ApplicantIncome       0\n",
       "CoapplicantIncome     0\n",
       "LoanAmount           22\n",
       "Loan_Amount_Term     14\n",
       "Credit_History       50\n",
       "Property_Area         0\n",
       "Loan_Status           0\n",
       "dtype: int64"
      ]
     },
     "execution_count": 13,
     "metadata": {},
     "output_type": "execute_result"
    }
   ],
   "source": [
    "data.isnull().sum()"
   ]
  },
  {
   "cell_type": "code",
   "execution_count": 15,
   "id": "0e76a25f",
   "metadata": {},
   "outputs": [],
   "source": [
    "catCol=['Gender','Married','Education','Self_Employed','Property_Area','Dependents']\n",
    "numWithScalingCol=['ApplicantIncome','CoapplicantIncome','LoanAmount','Loan_Amount_Term']\n",
    "numerCol=['Credit_History']"
   ]
  },
  {
   "cell_type": "code",
   "execution_count": 16,
   "id": "c93867ae",
   "metadata": {},
   "outputs": [],
   "source": [
    "from sklearn.pipeline import Pipeline\n",
    "from sklearn.compose import ColumnTransformer\n",
    "from sklearn.impute import SimpleImputer\n",
    "from sklearn.preprocessing import StandardScaler, OneHotEncoder\n",
    "from sklearn import ensemble"
   ]
  },
  {
   "cell_type": "code",
   "execution_count": 3,
   "id": "431df136",
   "metadata": {},
   "outputs": [
    {
     "ename": "NameError",
     "evalue": "name 'Pipeline' is not defined",
     "output_type": "error",
     "traceback": [
      "\u001b[1;31m---------------------------------------------------------------------------\u001b[0m",
      "\u001b[1;31mNameError\u001b[0m                                 Traceback (most recent call last)",
      "\u001b[1;32m~\\AppData\\Local\\Temp/ipykernel_5412/2810989192.py\u001b[0m in \u001b[0;36m<module>\u001b[1;34m\u001b[0m\n\u001b[1;32m----> 1\u001b[1;33m numeric_transformer_scaling = Pipeline(steps=[\n\u001b[0m\u001b[0;32m      2\u001b[0m     \u001b[1;33m(\u001b[0m\u001b[1;34m'imputer'\u001b[0m\u001b[1;33m,\u001b[0m \u001b[0mSimpleImputer\u001b[0m\u001b[1;33m(\u001b[0m\u001b[0mstrategy\u001b[0m\u001b[1;33m=\u001b[0m\u001b[1;34m'median'\u001b[0m\u001b[1;33m)\u001b[0m\u001b[1;33m)\u001b[0m\u001b[1;33m,\u001b[0m\u001b[1;33m\u001b[0m\u001b[1;33m\u001b[0m\u001b[0m\n\u001b[0;32m      3\u001b[0m     ('scaler', StandardScaler())])\n\u001b[0;32m      4\u001b[0m \u001b[1;33m\u001b[0m\u001b[0m\n\u001b[0;32m      5\u001b[0m numeric_transformer = Pipeline(steps=[\n",
      "\u001b[1;31mNameError\u001b[0m: name 'Pipeline' is not defined"
     ]
    }
   ],
   "source": [
    "numeric_transformer_scaling = Pipeline(steps=[\n",
    "    ('imputer', SimpleImputer(strategy='median')),\n",
    "    ('scaler', StandardScaler())])\n",
    "\n",
    "numeric_transformer = Pipeline(steps=[\n",
    "    ('imputer', SimpleImputer(strategy='constant', fill_value=99))])\n",
    "\n",
    "categorical_transformer = Pipeline(steps=[\n",
    "    ('imputer', SimpleImputer(strategy='constant', fill_value='missing')),\n",
    "    ('onehot', OneHotEncoder(handle_unknown='ignore'))])\n",
    "\n",
    "\n",
    "preprocessor = ColumnTransformer(\n",
    "    transformers=[\n",
    "        ('num', numeric_transformer_scaling, numWithScalingCol),\n",
    "        ('num2', numeric_transformer, numerCol),\n",
    "        ('cat', categorical_transformer, catCol)])"
   ]
  },
  {
   "cell_type": "code",
   "execution_count": 18,
   "id": "57812805",
   "metadata": {},
   "outputs": [],
   "source": [
    "modelPipeline = Pipeline(steps=[('preprocessor', preprocessor),\n",
    "                      ('classifier', ensemble.RandomForestClassifier())])"
   ]
  },
  {
   "cell_type": "code",
   "execution_count": 21,
   "id": "023d10be",
   "metadata": {},
   "outputs": [
    {
     "data": {
      "text/plain": [
       "Pipeline(steps=[('preprocessor',\n",
       "                 ColumnTransformer(transformers=[('num',\n",
       "                                                  Pipeline(steps=[('imputer',\n",
       "                                                                   SimpleImputer(strategy='median')),\n",
       "                                                                  ('scaler',\n",
       "                                                                   StandardScaler())]),\n",
       "                                                  ['ApplicantIncome',\n",
       "                                                   'CoapplicantIncome',\n",
       "                                                   'LoanAmount',\n",
       "                                                   'Loan_Amount_Term']),\n",
       "                                                 ('num2',\n",
       "                                                  Pipeline(steps=[('imputer',\n",
       "                                                                   SimpleImputer(fill_value=99,\n",
       "                                                                                 strategy='constant'))]),\n",
       "                                                  ['Credit_History']),\n",
       "                                                 ('cat',\n",
       "                                                  Pipeline(steps=[('imputer',\n",
       "                                                                   SimpleImputer(fill_value='missing',\n",
       "                                                                                 strategy='constant')),\n",
       "                                                                  ('onehot',\n",
       "                                                                   OneHotEncoder(handle_unknown='ignore'))]),\n",
       "                                                  ['Gender', 'Married',\n",
       "                                                   'Education', 'Self_Employed',\n",
       "                                                   'Property_Area',\n",
       "                                                   'Dependents'])])),\n",
       "                ('classifier', RandomForestClassifier())])"
      ]
     },
     "execution_count": 21,
     "metadata": {},
     "output_type": "execute_result"
    }
   ],
   "source": [
    "modelPipeline.fit(data[X_cols],data[y_cols])"
   ]
  },
  {
   "cell_type": "code",
   "execution_count": 23,
   "id": "107ac462",
   "metadata": {},
   "outputs": [
    {
     "data": {
      "text/plain": [
       "array([0.99, 0.27, 0.94, 0.94, 1.  , 0.84, 0.92, 0.07, 0.98, 0.25, 0.93,\n",
       "       0.93, 0.91, 0.24, 0.89, 0.99, 0.93, 0.02, 0.29, 0.98, 0.02, 0.95,\n",
       "       0.09, 0.09, 0.26, 0.97, 0.99, 0.95, 0.3 , 0.91, 0.28, 0.21, 0.29,\n",
       "       1.  , 0.24, 0.98, 0.09, 0.99, 0.8 , 0.98, 0.25, 0.88, 0.91, 0.99,\n",
       "       0.84, 0.96, 0.92, 0.98, 0.07, 0.95, 0.99, 0.97, 0.31, 0.31, 0.12,\n",
       "       1.  , 0.98, 0.38, 0.97, 0.96, 0.99, 0.93, 0.1 , 0.05, 0.03, 0.37,\n",
       "       0.09, 0.91, 0.8 , 0.06, 0.9 , 0.97, 0.83, 0.11, 0.96, 0.16, 0.41,\n",
       "       0.22, 0.06, 0.9 , 0.93, 0.98, 0.24, 0.24, 0.87, 0.99, 0.99, 0.99,\n",
       "       0.84, 0.97, 0.99, 0.87, 0.93, 0.9 , 0.86, 0.34, 1.  , 0.96, 0.95,\n",
       "       0.94, 0.88, 0.95, 0.89, 0.99, 0.96, 0.97, 0.96, 0.31, 0.15, 0.89,\n",
       "       0.99, 0.95, 0.03, 0.92, 0.92, 0.94, 1.  , 0.96, 0.31, 0.75, 0.86,\n",
       "       0.97, 0.75, 1.  , 0.84, 0.93, 0.8 , 0.97, 0.08, 0.27, 0.69, 0.8 ,\n",
       "       0.95, 0.94, 0.97, 0.2 , 0.26, 0.92, 0.11, 0.27, 0.28, 0.94, 0.89,\n",
       "       0.99, 0.98, 0.96, 0.87, 0.9 , 0.22, 1.  , 0.04, 0.98, 0.31, 0.26,\n",
       "       0.94, 0.73, 0.88, 0.97, 0.87, 0.87, 0.98, 0.27, 0.08, 0.85, 0.92,\n",
       "       0.83, 0.25, 0.97, 0.03, 0.99, 0.93, 0.86, 0.22, 0.94, 0.37, 0.92,\n",
       "       0.88, 0.13, 0.99, 0.03, 0.08, 0.26, 0.95, 0.25, 0.98, 0.9 , 0.04,\n",
       "       0.89, 0.79, 0.93, 0.82, 0.28, 0.4 , 0.97, 0.97, 0.35, 0.8 , 0.93,\n",
       "       0.98, 0.24, 0.98, 0.67, 0.24, 0.95, 1.  , 0.94, 0.97, 0.93, 0.9 ,\n",
       "       0.38, 0.35, 0.07, 0.86, 0.84, 0.96, 0.89, 0.38, 0.99, 0.09, 0.97,\n",
       "       0.09, 0.98, 0.98, 0.91, 0.93, 0.31, 0.31, 1.  , 0.9 , 0.9 , 0.96,\n",
       "       0.86, 0.96, 0.85, 0.97, 0.79, 0.29, 0.93, 0.88, 0.99, 0.92, 0.35,\n",
       "       0.87, 0.91, 0.9 , 0.24, 0.93, 0.87, 0.94, 0.99, 0.04, 0.28, 0.97,\n",
       "       0.74, 0.02, 0.82, 0.08, 0.33, 0.22, 0.36, 0.94, 0.95, 0.19, 0.9 ,\n",
       "       0.98, 0.96, 0.98, 0.7 , 0.28, 0.89, 0.97, 0.95, 0.94, 0.98, 1.  ,\n",
       "       0.97, 0.96, 0.97, 0.91, 0.87, 0.13, 0.99, 0.95, 0.91, 0.28, 0.91,\n",
       "       0.22, 0.95, 0.94, 0.87, 0.91, 0.09, 0.86, 0.12, 0.94, 0.91, 0.96,\n",
       "       0.81, 0.22, 0.29, 0.07, 0.93, 0.95, 0.92, 0.96, 0.26, 0.9 , 0.06,\n",
       "       0.15, 0.83, 1.  , 0.99, 0.87, 0.88, 0.28, 0.9 , 1.  , 0.99, 0.86,\n",
       "       0.35, 0.98, 0.91, 0.78, 0.97, 0.9 , 0.09, 0.65, 0.95, 0.2 , 0.94,\n",
       "       0.88, 0.94, 0.83, 0.81, 0.9 , 0.95, 0.89, 0.89, 0.12, 0.94, 0.24,\n",
       "       0.26, 0.86, 0.84, 0.98, 0.94, 0.06, 0.97, 0.75, 0.93, 0.96, 0.16,\n",
       "       0.98, 0.  , 0.99, 0.92, 0.96, 0.43, 0.03, 0.87, 0.36, 0.99, 0.86,\n",
       "       0.95, 0.91, 0.36, 0.24, 0.15, 0.95, 0.16, 0.92, 0.99, 0.97, 0.05,\n",
       "       0.92, 0.94, 0.94, 0.92, 0.13, 0.92, 0.97, 0.83, 0.93, 0.84, 0.35,\n",
       "       0.86, 0.98, 0.04, 0.98, 0.95, 0.93, 0.92, 0.99, 0.91, 0.91, 0.96,\n",
       "       0.04, 0.98, 0.95, 0.19, 0.16, 0.27, 0.86, 0.95, 0.28, 0.81, 0.97,\n",
       "       0.74, 0.17, 0.16, 0.22, 0.78, 0.06, 0.96, 0.09, 0.98, 0.3 , 0.27,\n",
       "       0.88, 0.99, 0.94, 0.07, 0.94, 0.1 , 0.94, 0.97, 0.13, 0.98, 0.94,\n",
       "       0.83, 0.91, 0.02, 0.87, 1.  , 0.79, 0.89, 0.97, 0.97, 0.02, 0.83,\n",
       "       0.91, 0.87, 0.84, 0.77, 0.85, 0.79, 0.75, 0.3 , 0.03, 0.29, 0.06,\n",
       "       0.93, 0.09, 0.7 , 0.96, 1.  , 0.91, 0.25, 0.96, 0.39, 0.9 , 0.92,\n",
       "       0.92, 0.85, 0.06, 0.96, 0.1 , 0.92, 0.83, 0.33, 0.96, 0.1 , 0.86,\n",
       "       0.95, 0.89, 0.97, 0.97, 0.05, 0.93, 0.28, 0.82, 0.77, 0.98, 0.98,\n",
       "       0.96, 0.93, 0.02, 0.36, 0.98, 0.23, 0.95, 0.9 , 0.96, 0.89, 0.06,\n",
       "       0.93, 0.92, 0.92, 0.96, 0.15, 0.81, 0.97, 0.98, 0.3 , 0.97, 0.92,\n",
       "       0.79, 0.2 , 0.94, 0.95, 0.33, 0.89, 0.91, 0.37, 0.22, 0.92, 0.92,\n",
       "       0.09, 0.23, 0.3 , 0.98, 0.96, 0.92, 0.98, 0.28, 0.89, 0.99, 0.67,\n",
       "       0.91, 0.95, 0.82, 0.85, 0.03, 0.3 , 0.86, 0.93, 0.84, 0.93, 0.3 ,\n",
       "       0.96, 0.9 , 0.12, 0.9 , 0.86, 0.98, 0.98, 0.19, 0.97, 0.05, 0.98,\n",
       "       0.07, 0.94, 0.88, 0.08, 0.08, 1.  , 0.95, 0.9 , 0.97, 0.91, 1.  ,\n",
       "       0.93, 0.82, 0.93, 0.11, 0.85, 0.82, 0.11, 0.27, 0.08, 0.93, 0.24,\n",
       "       0.92, 0.26, 0.43, 0.96, 0.08, 0.9 , 0.8 , 0.89, 0.99, 0.18, 0.96,\n",
       "       0.29, 0.07, 0.24, 0.99, 0.96, 0.88, 0.11, 0.85, 0.42, 0.97, 0.92,\n",
       "       0.84, 0.97, 0.3 , 0.14, 0.93, 0.95, 0.18, 0.93, 0.91, 0.89, 0.84,\n",
       "       0.34, 0.82, 0.77, 0.93, 0.95, 0.92, 0.96, 0.98, 0.06])"
      ]
     },
     "execution_count": 23,
     "metadata": {},
     "output_type": "execute_result"
    }
   ],
   "source": [
    "scores=modelPipeline.predict_proba(data[X_cols])[:,-1]\n",
    "scores"
   ]
  },
  {
   "cell_type": "code",
   "execution_count": 25,
   "id": "cda9c194",
   "metadata": {},
   "outputs": [],
   "source": [
    "test_data =pd.read_csv('../datasets/loan_test.txt')"
   ]
  },
  {
   "cell_type": "code",
   "execution_count": 28,
   "id": "ca8063ae",
   "metadata": {},
   "outputs": [],
   "source": [
    "scores=modelPipeline.predict_proba(test_data[X_cols])[:,-1]"
   ]
  },
  {
   "cell_type": "code",
   "execution_count": 31,
   "id": "a81e906a",
   "metadata": {},
   "outputs": [],
   "source": [
    "scoreOutput={j:k for j,k in zip(test_data['Loan_ID'],scores)}"
   ]
  },
  {
   "cell_type": "code",
   "execution_count": 34,
   "id": "de60ec9f",
   "metadata": {},
   "outputs": [],
   "source": [
    "import joblib"
   ]
  },
  {
   "cell_type": "code",
   "execution_count": 35,
   "id": "045090bd",
   "metadata": {},
   "outputs": [
    {
     "data": {
      "text/plain": [
       "['../models/modelPipeline.pkl']"
      ]
     },
     "execution_count": 35,
     "metadata": {},
     "output_type": "execute_result"
    }
   ],
   "source": [
    "joblib.dump(modelPipeline,'../models/modelPipeline.pkl')"
   ]
  }
 ],
 "metadata": {
  "kernelspec": {
   "display_name": "Python 3 (ipykernel)",
   "language": "python",
   "name": "python3"
  },
  "language_info": {
   "codemirror_mode": {
    "name": "ipython",
    "version": 3
   },
   "file_extension": ".py",
   "mimetype": "text/x-python",
   "name": "python",
   "nbconvert_exporter": "python",
   "pygments_lexer": "ipython3",
   "version": "3.9.7"
  }
 },
 "nbformat": 4,
 "nbformat_minor": 5
}
